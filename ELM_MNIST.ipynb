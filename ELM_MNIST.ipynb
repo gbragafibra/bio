{
 "cells": [
  {
   "cell_type": "code",
   "execution_count": 1,
   "id": "c2ea92a3-05ef-4768-9bde-2c6a38d0590f",
   "metadata": {},
   "outputs": [],
   "source": [
    "import numpy as np\n",
    "import matplotlib.pyplot as plt"
   ]
  },
  {
   "cell_type": "code",
   "execution_count": 2,
   "id": "7dae4ea9-1e9f-45ee-9c10-37884dc40d5b",
   "metadata": {},
   "outputs": [],
   "source": [
    "def MNIST_load():\n",
    "    from keras.datasets import mnist\n",
    "    (X, y), (_, _ )= mnist.load_data()\n",
    "    X = X.reshape(-1, 784)\n",
    "    X = X.astype(np.float32) / 255.0\n",
    "    y = y.astype(np.int32)\n",
    "    return X, y"
   ]
  },
  {
   "cell_type": "code",
   "execution_count": 3,
   "id": "f6180bab-7626-40af-b031-6df7fdcc50fd",
   "metadata": {},
   "outputs": [],
   "source": [
    "def one_hot_encode(y):\n",
    "    num_classes = np.unique(y).shape[0]\n",
    "    y_one_hot = np.zeros((y.shape[0], num_classes), dtype=int)\n",
    "    y_one_hot[np.arange(y.shape[0]), y] = 1\n",
    "    return y_one_hot"
   ]
  },
  {
   "cell_type": "code",
   "execution_count": 4,
   "id": "f0812408-ff0e-4de1-baa1-e6338410872a",
   "metadata": {},
   "outputs": [
    {
     "name": "stderr",
     "output_type": "stream",
     "text": [
      "2024-09-25 15:56:47.476872: E external/local_xla/xla/stream_executor/cuda/cuda_dnn.cc:9261] Unable to register cuDNN factory: Attempting to register factory for plugin cuDNN when one has already been registered\n",
      "2024-09-25 15:56:47.476899: E external/local_xla/xla/stream_executor/cuda/cuda_fft.cc:607] Unable to register cuFFT factory: Attempting to register factory for plugin cuFFT when one has already been registered\n",
      "2024-09-25 15:56:47.477831: E external/local_xla/xla/stream_executor/cuda/cuda_blas.cc:1515] Unable to register cuBLAS factory: Attempting to register factory for plugin cuBLAS when one has already been registered\n",
      "2024-09-25 15:56:47.484372: I tensorflow/core/platform/cpu_feature_guard.cc:182] This TensorFlow binary is optimized to use available CPU instructions in performance-critical operations.\n",
      "To enable the following instructions: AVX2 FMA, in other operations, rebuild TensorFlow with the appropriate compiler flags.\n",
      "2024-09-25 15:56:48.174639: W tensorflow/compiler/tf2tensorrt/utils/py_utils.cc:38] TF-TRT Warning: Could not find TensorRT\n"
     ]
    }
   ],
   "source": [
    "X, y = MNIST_load()"
   ]
  },
  {
   "cell_type": "code",
   "execution_count": 5,
   "id": "88103ade-10e4-4503-a2ef-e1e2e66d08b5",
   "metadata": {},
   "outputs": [],
   "source": [
    "def train_test_split(X, y, split_ratio = 0.7):\n",
    "    N = X.shape[0]\n",
    "    rnd_idx = np.random.permutation(N)\n",
    "    train_idx = rnd_idx[:int(split_ratio * X.shape[0])]\n",
    "    test_idx = rnd_idx[int(split_ratio * X.shape[0]):]\n",
    "    X_train = X[train_idx]\n",
    "    y_train = y[train_idx]\n",
    "    X_test = X[test_idx]\n",
    "    y_test = y[test_idx]\n",
    "    return X_train, y_train, X_test, y_test"
   ]
  },
  {
   "cell_type": "code",
   "execution_count": 6,
   "id": "92b09687-e38b-4197-887e-34b8ee4d6863",
   "metadata": {},
   "outputs": [],
   "source": [
    "X_train, y_train, X_test, y_test = train_test_split(X, y)\n",
    "y_train_one_hot = one_hot_encode(y_train)\n",
    "y_test_one_hot = one_hot_encode(y_test)"
   ]
  },
  {
   "cell_type": "code",
   "execution_count": 7,
   "id": "469ba0e5-f3b8-44dd-9c33-ed015b54b919",
   "metadata": {},
   "outputs": [],
   "source": [
    "def ReLU(x):\n",
    "    return np.maximum(0, x)"
   ]
  },
  {
   "cell_type": "code",
   "execution_count": 11,
   "id": "9dd88f0d-893d-49e9-843f-3bb1687fd348",
   "metadata": {},
   "outputs": [],
   "source": [
    "class ELM:\n",
    "    def __init__(self, X, y, hidden_dim):\n",
    "        self.X = X #X_train\n",
    "        self.y = y #y_train (one_hot_encoded)\n",
    "        self.input_dim = self.X.shape[1]\n",
    "        self.hidden_dim = hidden_dim\n",
    "        self.W = np.random.rand(self.input_dim, self.hidden_dim)\n",
    "        \n",
    "    def input_hidden(self, X): #compute output of input -> hidden layer\n",
    "        return ReLU(np.dot(X, self.W))\n",
    "    \n",
    "    def train(self):\n",
    "        X_ = self.input_hidden(self.X)\n",
    "        self.β = np.dot(np.linalg.pinv(X_), self.y)\n",
    "    \n",
    "    def predict(self, X):\n",
    "        X_ = self.input_hidden(X)\n",
    "        X_ = np.dot(X_, self.β)\n",
    "        pred = np.argmax(X_, axis = 1)\n",
    "        return pred\n",
    "\n",
    "    def get_accuracy(self, X_train, X_test, y_train, y_test):\n",
    "        # y (non one_hot_encoded)\n",
    "        train_pred = self.predict(X_train)\n",
    "        test_pred = self.predict(X_test)\n",
    "        train_acc = np.sum(train_pred == y_train)/X_train.shape[0]\n",
    "        test_acc = np.sum(test_pred == y_test)/X_test.shape[0]\n",
    "        return train_acc, test_acc"
   ]
  },
  {
   "cell_type": "code",
   "execution_count": 12,
   "id": "27e9af2c-1df2-4d3e-92e0-1123306b3161",
   "metadata": {},
   "outputs": [],
   "source": [
    "net = ELM(X_train, y_train_one_hot, 200)\n",
    "net.train()\n",
    "train_acc, test_acc = net.get_accuracy(X_train, X_test, y_train, y_test)"
   ]
  },
  {
   "cell_type": "code",
   "execution_count": 15,
   "id": "21375854-d663-4151-8f0c-5d347cb7593a",
   "metadata": {},
   "outputs": [],
   "source": [
    "def run(n_sims, X, y, save = False):\n",
    "    # Train and test accuracies\n",
    "    train_accs = []\n",
    "    test_accs = []\n",
    "    \n",
    "    #hidden dimension layer range\n",
    "    hid_dim_range = np.arange(10, 200, 10)\n",
    "    for hid_dim in hid_dim_range:\n",
    "        # train and test accs for a specific hid_dim\n",
    "        train_accuracy = [] \n",
    "        test_accuracy = []\n",
    "        print(f\"With hidden dimension {hid_dim}.\")\n",
    "        for sim in range(n_sims):\n",
    "            print(f\"Simulation {sim + 1}/{n_sims}\")\n",
    "            X_train, y_train, X_test, y_test = train_test_split(X, y)\n",
    "            y_train_one_hot = one_hot_encode(y_train)\n",
    "            y_test_one_hot = one_hot_encode(y_test)\n",
    "\n",
    "            net = ELM(X_train, y_train_one_hot, hid_dim) #init\n",
    "            net.train() #train\n",
    "            train_acc, test_acc = net.get_accuracy(X_train, X_test, y_train, y_test)\n",
    "            train_accuracy.append(train_acc)\n",
    "            test_accuracy.append(test_acc)\n",
    "            \n",
    "        train_accs.append((np.mean(train_accuracy), np.std(train_accuracy)))\n",
    "        test_accs.append((np.mean(test_accuracy), np.std(test_accuracy)))\n",
    "    train_μ, train_σ = zip(*train_accs)\n",
    "    test_μ, test_σ = zip(*test_accs)\n",
    "\n",
    "    plt.errorbar(hid_dim_range, train_μ, yerr=train_σ, fmt=\".\", capsize=2, capthick=1, ecolor=\"r\", label=\"Train acc\")\n",
    "    plt.errorbar(hid_dim_range, test_μ, yerr=test_σ, fmt=\".\", capsize=2, capthick=1, ecolor=\"k\", label=\"Test acc\")\n",
    "    plt.xlabel(\"Hidden dim\")\n",
    "    plt.ylabel(\"Accuracy\")\n",
    "    plt.legend()\n",
    "\n",
    "    if save:\n",
    "        plt.savefig(\"performance\", format=\"png\", dpi=300)\n",
    "    \n",
    "    plt.show()"
   ]
  },
  {
   "cell_type": "code",
   "execution_count": 16,
   "id": "ed97d54a-7064-4030-a0e4-38080864adc4",
   "metadata": {},
   "outputs": [
    {
     "name": "stdout",
     "output_type": "stream",
     "text": [
      "With hidden dimnsion 10.\n",
      "Simulation 1/10\n",
      "Simulation 2/10\n",
      "Simulation 3/10\n",
      "Simulation 4/10\n",
      "Simulation 5/10\n",
      "Simulation 6/10\n",
      "Simulation 7/10\n",
      "Simulation 8/10\n",
      "Simulation 9/10\n",
      "Simulation 10/10\n",
      "With hidden dimnsion 20.\n",
      "Simulation 1/10\n",
      "Simulation 2/10\n",
      "Simulation 3/10\n",
      "Simulation 4/10\n",
      "Simulation 5/10\n",
      "Simulation 6/10\n",
      "Simulation 7/10\n",
      "Simulation 8/10\n",
      "Simulation 9/10\n",
      "Simulation 10/10\n",
      "With hidden dimnsion 30.\n",
      "Simulation 1/10\n",
      "Simulation 2/10\n",
      "Simulation 3/10\n",
      "Simulation 4/10\n",
      "Simulation 5/10\n",
      "Simulation 6/10\n",
      "Simulation 7/10\n",
      "Simulation 8/10\n",
      "Simulation 9/10\n",
      "Simulation 10/10\n",
      "With hidden dimnsion 40.\n",
      "Simulation 1/10\n",
      "Simulation 2/10\n",
      "Simulation 3/10\n",
      "Simulation 4/10\n",
      "Simulation 5/10\n",
      "Simulation 6/10\n",
      "Simulation 7/10\n",
      "Simulation 8/10\n",
      "Simulation 9/10\n",
      "Simulation 10/10\n",
      "With hidden dimnsion 50.\n",
      "Simulation 1/10\n",
      "Simulation 2/10\n",
      "Simulation 3/10\n",
      "Simulation 4/10\n",
      "Simulation 5/10\n",
      "Simulation 6/10\n",
      "Simulation 7/10\n"
     ]
    },
    {
     "ename": "KeyboardInterrupt",
     "evalue": "",
     "output_type": "error",
     "traceback": [
      "\u001b[0;31m---------------------------------------------------------------------------\u001b[0m",
      "\u001b[0;31mKeyboardInterrupt\u001b[0m                         Traceback (most recent call last)",
      "Cell \u001b[0;32mIn[16], line 1\u001b[0m\n\u001b[0;32m----> 1\u001b[0m \u001b[43mrun\u001b[49m\u001b[43m(\u001b[49m\u001b[38;5;241;43m10\u001b[39;49m\u001b[43m,\u001b[49m\u001b[43m \u001b[49m\u001b[43mX\u001b[49m\u001b[43m,\u001b[49m\u001b[43m \u001b[49m\u001b[43my\u001b[49m\u001b[43m)\u001b[49m\n",
      "Cell \u001b[0;32mIn[15], line 20\u001b[0m, in \u001b[0;36mrun\u001b[0;34m(n_sims, X, y, save)\u001b[0m\n\u001b[1;32m     17\u001b[0m y_test_one_hot \u001b[38;5;241m=\u001b[39m one_hot_encode(y_test)\n\u001b[1;32m     19\u001b[0m net \u001b[38;5;241m=\u001b[39m ELM(X_train, y_train_one_hot, hid_dim) \u001b[38;5;66;03m#init\u001b[39;00m\n\u001b[0;32m---> 20\u001b[0m \u001b[43mnet\u001b[49m\u001b[38;5;241;43m.\u001b[39;49m\u001b[43mtrain\u001b[49m\u001b[43m(\u001b[49m\u001b[43m)\u001b[49m \u001b[38;5;66;03m#train\u001b[39;00m\n\u001b[1;32m     21\u001b[0m train_acc, test_acc \u001b[38;5;241m=\u001b[39m net\u001b[38;5;241m.\u001b[39mget_accuracy(X_train, X_test, y_train, y_test)\n\u001b[1;32m     22\u001b[0m train_accuracy\u001b[38;5;241m.\u001b[39mappend(train_acc)\n",
      "Cell \u001b[0;32mIn[11], line 13\u001b[0m, in \u001b[0;36mELM.train\u001b[0;34m(self)\u001b[0m\n\u001b[1;32m     12\u001b[0m \u001b[38;5;28;01mdef\u001b[39;00m \u001b[38;5;21mtrain\u001b[39m(\u001b[38;5;28mself\u001b[39m):\n\u001b[0;32m---> 13\u001b[0m     X_ \u001b[38;5;241m=\u001b[39m \u001b[38;5;28;43mself\u001b[39;49m\u001b[38;5;241;43m.\u001b[39;49m\u001b[43minput_hidden\u001b[49m\u001b[43m(\u001b[49m\u001b[38;5;28;43mself\u001b[39;49m\u001b[38;5;241;43m.\u001b[39;49m\u001b[43mX\u001b[49m\u001b[43m)\u001b[49m\n\u001b[1;32m     14\u001b[0m     \u001b[38;5;28mself\u001b[39m\u001b[38;5;241m.\u001b[39mβ \u001b[38;5;241m=\u001b[39m np\u001b[38;5;241m.\u001b[39mdot(np\u001b[38;5;241m.\u001b[39mlinalg\u001b[38;5;241m.\u001b[39mpinv(X_), \u001b[38;5;28mself\u001b[39m\u001b[38;5;241m.\u001b[39my)\n",
      "Cell \u001b[0;32mIn[11], line 10\u001b[0m, in \u001b[0;36mELM.input_hidden\u001b[0;34m(self, X)\u001b[0m\n\u001b[1;32m      9\u001b[0m \u001b[38;5;28;01mdef\u001b[39;00m \u001b[38;5;21minput_hidden\u001b[39m(\u001b[38;5;28mself\u001b[39m, X): \u001b[38;5;66;03m#compute output of input -> hidden layer\u001b[39;00m\n\u001b[0;32m---> 10\u001b[0m     \u001b[38;5;28;01mreturn\u001b[39;00m ReLU(\u001b[43mnp\u001b[49m\u001b[38;5;241;43m.\u001b[39;49m\u001b[43mdot\u001b[49m\u001b[43m(\u001b[49m\u001b[43mX\u001b[49m\u001b[43m,\u001b[49m\u001b[43m \u001b[49m\u001b[38;5;28;43mself\u001b[39;49m\u001b[38;5;241;43m.\u001b[39;49m\u001b[43mW\u001b[49m\u001b[43m)\u001b[49m)\n",
      "File \u001b[0;32m<__array_function__ internals>:200\u001b[0m, in \u001b[0;36mdot\u001b[0;34m(*args, **kwargs)\u001b[0m\n",
      "\u001b[0;31mKeyboardInterrupt\u001b[0m: "
     ]
    }
   ],
   "source": [
    "run(10, X, y, save=True)"
   ]
  }
 ],
 "metadata": {
  "kernelspec": {
   "display_name": "Python 3 (ipykernel)",
   "language": "python",
   "name": "python3"
  },
  "language_info": {
   "codemirror_mode": {
    "name": "ipython",
    "version": 3
   },
   "file_extension": ".py",
   "mimetype": "text/x-python",
   "name": "python",
   "nbconvert_exporter": "python",
   "pygments_lexer": "ipython3",
   "version": "3.10.13"
  }
 },
 "nbformat": 4,
 "nbformat_minor": 5
}
