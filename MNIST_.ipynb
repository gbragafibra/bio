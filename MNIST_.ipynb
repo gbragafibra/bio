{
 "cells": [
  {
   "cell_type": "code",
   "execution_count": 1,
   "id": "440a793d-b29a-4abe-8bf2-9cdd77955edb",
   "metadata": {},
   "outputs": [],
   "source": [
    "from sklearn.datasets import fetch_openml\n",
    "import numpy as np\n",
    "import matplotlib.pyplot as plt"
   ]
  },
  {
   "cell_type": "code",
   "execution_count": 4,
   "id": "ba544b32-41cf-417f-b0b2-be675225f479",
   "metadata": {},
   "outputs": [
    {
     "name": "stderr",
     "output_type": "stream",
     "text": [
      "/home/fibra/anaconda3/lib/python3.10/site-packages/sklearn/datasets/_openml.py:1022: FutureWarning: The default value of `parser` will change from `'liac-arff'` to `'auto'` in 1.4. You can set `parser='auto'` to silence this warning. Therefore, an `ImportError` will be raised from 1.4 if the dataset is dense and pandas is not installed. Note that the pandas parser may return different data types. See the Notes Section in fetch_openml's API doc for details.\n",
      "  warn(\n"
     ]
    }
   ],
   "source": [
    "mnist = fetch_openml(\"mnist_784\", version=1)"
   ]
  },
  {
   "cell_type": "code",
   "execution_count": 7,
   "id": "602d6633-6dd8-4d95-9765-628c7eb1e74e",
   "metadata": {},
   "outputs": [],
   "source": [
    "X, y = mnist[\"data\"], mnist[\"target\"]"
   ]
  },
  {
   "cell_type": "code",
   "execution_count": 10,
   "id": "10479a6d-c4f4-4b60-a220-edf475604a8e",
   "metadata": {},
   "outputs": [],
   "source": [
    "X = X.astype(np.float32) / 255.0\n",
    "y = y.astype(np.int32)\n",
    "X = X.values.reshape(-1, 28, 28)"
   ]
  },
  {
   "cell_type": "code",
   "execution_count": 11,
   "id": "c5c7ba72-e377-413c-9b14-0839a4ff1fcf",
   "metadata": {},
   "outputs": [
    {
     "data": {
      "image/png": "[encoded data removed]",
      "text/plain": [
       "<Figure size 640x480 with 1 Axes>"
      ]
     },
     "metadata": {},
     "output_type": "display_data"
    }
   ],
   "source": [
    "plt.imshow(X[0], cmap=\"gray\")\n",
    "plt.title(f\"Label: {y[0]}\")\n",
    "plt.show()"
   ]
  },
  {
   "cell_type": "code",
   "execution_count": 29,
   "id": "df68120c-c33f-495e-954d-ab914fb0f03a",
   "metadata": {},
   "outputs": [],
   "source": [
    "#Only 0s and 1s first\n",
    "mask = (y == 0) | (y == 1)\n",
    "X = X[mask]\n",
    "y = y[mask]"
   ]
  },
  {
   "cell_type": "code",
   "execution_count": 2,
   "id": "79ca34cd-59a1-4200-be2f-05b07e557daf",
   "metadata": {},
   "outputs": [],
   "source": [
    "#Try other datasets\n",
    "from sklearn.datasets import load_breast_cancer"
   ]
  },
  {
   "cell_type": "code",
   "execution_count": 3,
   "id": "9049bad0-5478-49f5-a823-77c51e3eaae4",
   "metadata": {},
   "outputs": [],
   "source": [
    "data = load_breast_cancer()"
   ]
  },
  {
   "cell_type": "code",
   "execution_count": 4,
   "id": "c044226d-9a7f-4908-a18e-78b14c589ee8",
   "metadata": {},
   "outputs": [],
   "source": [
    "X = data.data\n",
    "y = data.target"
   ]
  },
  {
   "cell_type": "code",
   "execution_count": 12,
   "id": "72d1105c-bd47-499a-8f27-4757cdd03fee",
   "metadata": {},
   "outputs": [
    {
     "data": {
      "text/plain": [
       "array([1.799e+01, 1.038e+01, 1.228e+02, 1.001e+03, 1.184e-01, 2.776e-01,\n",
       "       3.001e-01, 1.471e-01, 2.419e-01, 7.871e-02, 1.095e+00, 9.053e-01,\n",
       "       8.589e+00, 1.534e+02, 6.399e-03, 4.904e-02, 5.373e-02, 1.587e-02,\n",
       "       3.003e-02, 6.193e-03, 2.538e+01, 1.733e+01, 1.846e+02, 2.019e+03,\n",
       "       1.622e-01, 6.656e-01, 7.119e-01, 2.654e-01, 4.601e-01, 1.189e-01])"
      ]
     },
     "execution_count": 12,
     "metadata": {},
     "output_type": "execute_result"
    }
   ],
   "source": [
    "X[0]"
   ]
  },
  {
   "cell_type": "code",
   "execution_count": 17,
   "id": "e2e71f60-3a0e-46a3-afa7-71f327ea3797",
   "metadata": {},
   "outputs": [],
   "source": [
    "from Net import *"
   ]
  },
  {
   "cell_type": "code",
   "execution_count": 18,
   "id": "9e38c389-3347-48c9-805d-7216e9122f3c",
   "metadata": {},
   "outputs": [
    {
     "name": "stderr",
     "output_type": "stream",
     "text": [
      "/home/fibra/Desktop/Bio/Net.py:155: RuntimeWarning: overflow encountered in exp\n",
      "  return np.where(ξ < np.exp(-ε/T), ΔW, 0)\n",
      "/home/fibra/Desktop/Bio/Net.py:137: RuntimeWarning: divide by zero encountered in divide\n",
      "  Δε = (x_ - np.mean(x_))/np.std(x_)\n",
      "/home/fibra/Desktop/Bio/Net.py:158: RuntimeWarning: overflow encountered in exp\n",
      "  return 1/(1 + np.exp(-x))\n",
      "/home/fibra/Desktop/Bio/Net.py:137: RuntimeWarning: invalid value encountered in divide\n",
      "  Δε = (x_ - np.mean(x_))/np.std(x_)\n"
     ]
    },
    {
     "name": "stdout",
     "output_type": "stream",
     "text": [
      "Epoch 1/100, Training Loss: 0.4673,\t\t\t\tTesting Loss: 0.3509\n",
      "Epoch 2/100, Training Loss: 0.4899,\t\t\t\tTesting Loss: 0.2690\n",
      "Epoch 3/100, Training Loss: 0.4975,\t\t\t\tTesting Loss: 0.8304\n",
      "Epoch 4/100, Training Loss: 0.5000,\t\t\t\tTesting Loss: 0.2632\n",
      "Epoch 5/100, Training Loss: 0.5101,\t\t\t\tTesting Loss: 0.7895\n",
      "Epoch 6/100, Training Loss: 0.4899,\t\t\t\tTesting Loss: 0.3626\n",
      "Epoch 7/100, Training Loss: 0.4874,\t\t\t\tTesting Loss: 0.7836\n",
      "Epoch 8/100, Training Loss: 0.4925,\t\t\t\tTesting Loss: 0.1345\n",
      "Epoch 9/100, Training Loss: 0.5000,\t\t\t\tTesting Loss: 0.2573\n",
      "Epoch 10/100, Training Loss: 0.4925,\t\t\t\tTesting Loss: 0.4152\n",
      "Epoch 11/100, Training Loss: 0.5302,\t\t\t\tTesting Loss: 0.5614\n",
      "Epoch 12/100, Training Loss: 0.5201,\t\t\t\tTesting Loss: 0.8070\n",
      "Epoch 13/100, Training Loss: 0.4774,\t\t\t\tTesting Loss: 0.2573\n",
      "Epoch 14/100, Training Loss: 0.4698,\t\t\t\tTesting Loss: 0.2164\n",
      "Epoch 15/100, Training Loss: 0.4774,\t\t\t\tTesting Loss: 0.2164\n",
      "Epoch 16/100, Training Loss: 0.4774,\t\t\t\tTesting Loss: 0.2047\n",
      "Epoch 17/100, Training Loss: 0.4648,\t\t\t\tTesting Loss: 0.1988\n",
      "Epoch 18/100, Training Loss: 0.4774,\t\t\t\tTesting Loss: 0.2047\n",
      "Epoch 19/100, Training Loss: 0.4950,\t\t\t\tTesting Loss: 0.7953\n",
      "Epoch 20/100, Training Loss: 0.4925,\t\t\t\tTesting Loss: 0.2105\n",
      "Epoch 21/100, Training Loss: 0.4899,\t\t\t\tTesting Loss: 0.2047\n",
      "Epoch 22/100, Training Loss: 0.5101,\t\t\t\tTesting Loss: 0.7953\n",
      "Epoch 23/100, Training Loss: 0.4899,\t\t\t\tTesting Loss: 0.2047\n",
      "Epoch 24/100, Training Loss: 0.5126,\t\t\t\tTesting Loss: 0.7953\n"
     ]
    },
    {
     "name": "stderr",
     "output_type": "stream",
     "text": [
      "/home/fibra/anaconda3/lib/python3.10/site-packages/numpy/core/_methods.py:250: RuntimeWarning: overflow encountered in reduce\n",
      "  ret = umr_sum(x, axis, dtype, out, keepdims=keepdims, where=where)\n",
      "/home/fibra/anaconda3/lib/python3.10/site-packages/numpy/core/_methods.py:239: RuntimeWarning: overflow encountered in multiply\n",
      "  x = um.multiply(x, x, out=x)\n"
     ]
    },
    {
     "name": "stdout",
     "output_type": "stream",
     "text": [
      "Epoch 25/100, Training Loss: 0.5176,\t\t\t\tTesting Loss: 0.7895\n",
      "Epoch 26/100, Training Loss: 0.5151,\t\t\t\tTesting Loss: 0.8070\n",
      "Epoch 27/100, Training Loss: 0.5176,\t\t\t\tTesting Loss: 0.8070\n",
      "Epoch 28/100, Training Loss: 0.5101,\t\t\t\tTesting Loss: 0.8070\n",
      "Epoch 29/100, Training Loss: 0.5201,\t\t\t\tTesting Loss: 0.8070\n",
      "Epoch 30/100, Training Loss: 0.5226,\t\t\t\tTesting Loss: 0.8070\n",
      "Epoch 31/100, Training Loss: 0.5151,\t\t\t\tTesting Loss: 0.8070\n",
      "Epoch 32/100, Training Loss: 0.5226,\t\t\t\tTesting Loss: 0.8070\n",
      "Epoch 33/100, Training Loss: 0.5151,\t\t\t\tTesting Loss: 0.8070\n",
      "Epoch 34/100, Training Loss: 0.5126,\t\t\t\tTesting Loss: 0.8070\n",
      "Epoch 35/100, Training Loss: 0.5201,\t\t\t\tTesting Loss: 0.8070\n",
      "Epoch 36/100, Training Loss: 0.5251,\t\t\t\tTesting Loss: 0.8070\n",
      "Epoch 37/100, Training Loss: 0.5302,\t\t\t\tTesting Loss: 0.8070\n",
      "Epoch 38/100, Training Loss: 0.5226,\t\t\t\tTesting Loss: 0.8070\n",
      "Epoch 39/100, Training Loss: 0.5151,\t\t\t\tTesting Loss: 0.8070\n",
      "Epoch 40/100, Training Loss: 0.5151,\t\t\t\tTesting Loss: 0.8070\n",
      "Epoch 41/100, Training Loss: 0.5151,\t\t\t\tTesting Loss: 0.8129\n",
      "Epoch 42/100, Training Loss: 0.5226,\t\t\t\tTesting Loss: 0.8129\n",
      "Epoch 43/100, Training Loss: 0.5226,\t\t\t\tTesting Loss: 0.8129\n",
      "Epoch 44/100, Training Loss: 0.5302,\t\t\t\tTesting Loss: 0.8129\n",
      "Epoch 45/100, Training Loss: 0.5377,\t\t\t\tTesting Loss: 0.8129\n",
      "Epoch 46/100, Training Loss: 0.5327,\t\t\t\tTesting Loss: 0.8129\n",
      "Epoch 47/100, Training Loss: 0.5352,\t\t\t\tTesting Loss: 0.8129\n",
      "Epoch 48/100, Training Loss: 0.5352,\t\t\t\tTesting Loss: 0.8246\n",
      "Epoch 49/100, Training Loss: 0.5327,\t\t\t\tTesting Loss: 0.8187\n",
      "Epoch 50/100, Training Loss: 0.5327,\t\t\t\tTesting Loss: 0.8246\n",
      "Epoch 51/100, Training Loss: 0.5251,\t\t\t\tTesting Loss: 0.8246\n",
      "Epoch 52/100, Training Loss: 0.5302,\t\t\t\tTesting Loss: 0.8304\n",
      "Epoch 53/100, Training Loss: 0.5226,\t\t\t\tTesting Loss: 0.8304\n",
      "Epoch 54/100, Training Loss: 0.5176,\t\t\t\tTesting Loss: 0.1111\n"
     ]
    },
    {
     "name": "stderr",
     "output_type": "stream",
     "text": [
      "/home/fibra/anaconda3/lib/python3.10/site-packages/numpy/core/_methods.py:181: RuntimeWarning: overflow encountered in reduce\n",
      "  ret = umr_sum(arr, axis, dtype, out, keepdims, where=where)\n",
      "/home/fibra/anaconda3/lib/python3.10/site-packages/numpy/core/_methods.py:215: RuntimeWarning: overflow encountered in reduce\n",
      "  arrmean = umr_sum(arr, axis, dtype, keepdims=True, where=where)\n",
      "/home/fibra/anaconda3/lib/python3.10/site-packages/numpy/core/numeric.py:943: RuntimeWarning: overflow encountered in multiply\n",
      "  return multiply(a.ravel()[:, newaxis], b.ravel()[newaxis, :], out)\n",
      "/home/fibra/Desktop/Bio/Net.py:137: RuntimeWarning: invalid value encountered in subtract\n",
      "  Δε = (x_ - np.mean(x_))/np.std(x_)\n",
      "/home/fibra/anaconda3/lib/python3.10/site-packages/numpy/core/_methods.py:236: RuntimeWarning: invalid value encountered in subtract\n",
      "  x = asanyarray(arr - arrmean)\n",
      "/home/fibra/anaconda3/lib/python3.10/site-packages/numpy/core/_methods.py:181: RuntimeWarning: invalid value encountered in reduce\n",
      "  ret = umr_sum(arr, axis, dtype, out, keepdims, where=where)\n",
      "/home/fibra/anaconda3/lib/python3.10/site-packages/numpy/core/_methods.py:215: RuntimeWarning: invalid value encountered in reduce\n",
      "  arrmean = umr_sum(arr, axis, dtype, keepdims=True, where=where)\n"
     ]
    },
    {
     "name": "stdout",
     "output_type": "stream",
     "text": [
      "Epoch 55/100, Training Loss: 0.0955,\t\t\t\tTesting Loss: 0.1111\n",
      "Epoch 56/100, Training Loss: 0.0955,\t\t\t\tTesting Loss: 0.1111\n",
      "Epoch 57/100, Training Loss: 0.0955,\t\t\t\tTesting Loss: 0.1111\n",
      "Epoch 58/100, Training Loss: 0.0955,\t\t\t\tTesting Loss: 0.1111\n",
      "Epoch 59/100, Training Loss: 0.0955,\t\t\t\tTesting Loss: 0.1111\n",
      "Epoch 60/100, Training Loss: 0.0955,\t\t\t\tTesting Loss: 0.1111\n",
      "Epoch 61/100, Training Loss: 0.0980,\t\t\t\tTesting Loss: 0.1111\n",
      "Epoch 62/100, Training Loss: 0.0980,\t\t\t\tTesting Loss: 0.1111\n",
      "Epoch 63/100, Training Loss: 0.0980,\t\t\t\tTesting Loss: 0.1053\n",
      "Epoch 64/100, Training Loss: 0.0980,\t\t\t\tTesting Loss: 0.1053\n",
      "Epoch 65/100, Training Loss: 0.0980,\t\t\t\tTesting Loss: 0.1053\n",
      "Epoch 66/100, Training Loss: 0.0980,\t\t\t\tTesting Loss: 0.1111\n",
      "Epoch 67/100, Training Loss: 0.0980,\t\t\t\tTesting Loss: 0.1111\n",
      "Epoch 68/100, Training Loss: 0.0980,\t\t\t\tTesting Loss: 0.1111\n",
      "Epoch 69/100, Training Loss: 0.1005,\t\t\t\tTesting Loss: 0.1111\n",
      "Epoch 70/100, Training Loss: 0.1005,\t\t\t\tTesting Loss: 0.1111\n",
      "Epoch 71/100, Training Loss: 0.1005,\t\t\t\tTesting Loss: 0.1111\n",
      "Epoch 72/100, Training Loss: 0.1005,\t\t\t\tTesting Loss: 0.1111\n",
      "Epoch 73/100, Training Loss: 0.1005,\t\t\t\tTesting Loss: 0.1111\n",
      "Epoch 74/100, Training Loss: 0.1005,\t\t\t\tTesting Loss: 0.1111\n",
      "Epoch 75/100, Training Loss: 0.0955,\t\t\t\tTesting Loss: 0.1111\n",
      "Epoch 76/100, Training Loss: 0.0955,\t\t\t\tTesting Loss: 0.1111\n",
      "Epoch 77/100, Training Loss: 0.0955,\t\t\t\tTesting Loss: 0.1111\n",
      "Epoch 78/100, Training Loss: 0.0955,\t\t\t\tTesting Loss: 0.1111\n",
      "Epoch 79/100, Training Loss: 0.0955,\t\t\t\tTesting Loss: 0.1111\n",
      "Epoch 80/100, Training Loss: 0.0955,\t\t\t\tTesting Loss: 0.1111\n",
      "Epoch 81/100, Training Loss: 0.0955,\t\t\t\tTesting Loss: 0.1111\n",
      "Epoch 82/100, Training Loss: 0.0955,\t\t\t\tTesting Loss: 0.1111\n",
      "Epoch 83/100, Training Loss: 0.0955,\t\t\t\tTesting Loss: 0.1111\n",
      "Epoch 84/100, Training Loss: 0.0955,\t\t\t\tTesting Loss: 0.1111\n",
      "Epoch 85/100, Training Loss: 0.0955,\t\t\t\tTesting Loss: 0.1111\n",
      "Epoch 86/100, Training Loss: 0.0955,\t\t\t\tTesting Loss: 0.1170\n",
      "Epoch 87/100, Training Loss: 0.0955,\t\t\t\tTesting Loss: 0.1170\n",
      "Epoch 88/100, Training Loss: 0.0955,\t\t\t\tTesting Loss: 0.1170\n",
      "Epoch 89/100, Training Loss: 0.0955,\t\t\t\tTesting Loss: 0.1170\n",
      "Epoch 90/100, Training Loss: 0.0955,\t\t\t\tTesting Loss: 0.1170\n",
      "Epoch 91/100, Training Loss: 0.0955,\t\t\t\tTesting Loss: 0.1170\n",
      "Epoch 92/100, Training Loss: 0.0955,\t\t\t\tTesting Loss: 0.1170\n",
      "Epoch 93/100, Training Loss: 0.0955,\t\t\t\tTesting Loss: 0.1170\n",
      "Epoch 94/100, Training Loss: 0.0955,\t\t\t\tTesting Loss: 0.1170\n",
      "Epoch 95/100, Training Loss: 0.0955,\t\t\t\tTesting Loss: 0.1170\n",
      "Epoch 96/100, Training Loss: 0.0955,\t\t\t\tTesting Loss: 0.1170\n",
      "Epoch 97/100, Training Loss: 0.0955,\t\t\t\tTesting Loss: 0.1170\n",
      "Epoch 98/100, Training Loss: 0.0955,\t\t\t\tTesting Loss: 0.1170\n",
      "Epoch 99/100, Training Loss: 0.0955,\t\t\t\tTesting Loss: 0.1170\n",
      "Epoch 100/100, Training Loss: 0.0955,\t\t\t\tTesting Loss: 0.1170\n",
      "Training Accuracy: 0.9045, Testing Accuracy: 0.8830\n"
     ]
    },
    {
     "data": {
      "image/png": "[encoded data removed]",
      "text/plain": [
       "<Figure size 640x480 with 1 Axes>"
      ]
     },
     "metadata": {},
     "output_type": "display_data"
    }
   ],
   "source": [
    "np.random.seed(37)\n",
    "\n",
    "from sklearn.datasets import load_breast_cancer\n",
    "\n",
    "data = load_breast_cancer()\n",
    "X = data.data\n",
    "y = data.target\n",
    "X = scaler(X)\n",
    "\n",
    "N = X[0].shape[0]\n",
    "\n",
    "layer_sizes = [N, 50, 10, 1]\n",
    "T = 100\n",
    "γ = 0.1\n",
    "β = 0.05\n",
    "net = Net(layer_sizes, T, γ, β)\n",
    "\n",
    "η = 0.005\n",
    "λ = 0.3\n",
    "epochs = 100\n",
    "net.run(X, y, η, λ, epochs, 0.7, 0.3, plot = True)"
   ]
  }
 ],
 "metadata": {
  "kernelspec": {
   "display_name": "Python 3 (ipykernel)",
   "language": "python",
   "name": "python3"
  },
  "language_info": {
   "codemirror_mode": {
    "name": "ipython",
    "version": 3
   },
   "file_extension": ".py",
   "mimetype": "text/x-python",
   "name": "python",
   "nbconvert_exporter": "python",
   "pygments_lexer": "ipython3",
   "version": "3.10.13"
  }
 },
 "nbformat": 4,
 "nbformat_minor": 5
}
