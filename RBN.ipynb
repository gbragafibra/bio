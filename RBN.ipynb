{
 "cells": [
  {
   "cell_type": "code",
   "execution_count": 1,
   "id": "52f5e2e2-ff6c-4e0e-b780-b78d170abee1",
   "metadata": {},
   "outputs": [],
   "source": [
    "import numpy as np\n",
    "import matplotlib.pyplot as plt\n",
    "import matplotlib.animation as animation"
   ]
  },
  {
   "cell_type": "code",
   "execution_count": 12,
   "id": "f2c7cdc4-8313-42d0-83f4-c29f0c0f7425",
   "metadata": {},
   "outputs": [],
   "source": [
    "def AND(inputs):\n",
    "    return 1 if np.all(inputs == 1) else 0\n",
    "\n",
    "def OR(inputs):\n",
    "    return 1 if np.any(inputs == 1) else 0\n",
    "\n",
    "def NAND(inputs):\n",
    "    return 1 - AND(inputs)\n",
    "\n",
    "def NOR(inputs):\n",
    "    return 1 - OR(inputs) \n",
    "\n",
    "def XOR(inputs):\n",
    "    return 1 if np.sum(inputs) % 2 != 0 else 0\n",
    "\n",
    "def XNOR(inputs):\n",
    "    return 1 - XOR(inputs) \n",
    "\n",
    "def Tautology(inputs):\n",
    "    return 1 #return 1 regardless of inputs\n",
    "\n",
    "def Contradiction(inputs):\n",
    "    return 0 #return 0 regardless of inputs"
   ]
  },
  {
   "cell_type": "code",
   "execution_count": 84,
   "id": "3143f7b2-7ade-4d8c-91a8-05692c44afbe",
   "metadata": {},
   "outputs": [],
   "source": [
    "gates = [AND, OR, NAND, NOR, XOR, XNOR, Tautology, Contradiction]\n",
    "\n",
    "N = 10\n",
    "K = 2\n",
    "W = np.random.choice((0,1), size = (N, N))\n",
    "iter_ = 100\n",
    "for _ in range(iter_):\n",
    "    for i in range(N):\n",
    "        for j in range(N):\n",
    "            idxs = np.random.choice(N, (K, 2))\n",
    "            inputs = np.array([W[row, col] for row, col in idxs])\n",
    "            gate = np.random.choice(gates)\n",
    "            W[i, j] = gate(inputs)"
   ]
  },
  {
   "cell_type": "code",
   "execution_count": 91,
   "id": "f7a82923-2a0b-4509-b276-aadb9a01606b",
   "metadata": {},
   "outputs": [
    {
     "data": {
      "image/png": "[encoded data removed]",
      "text/plain": [
       "<Figure size 640x480 with 1 Axes>"
      ]
     },
     "metadata": {},
     "output_type": "display_data"
    }
   ],
   "source": [
    "N = 100\n",
    "K = 2\n",
    "W = np.random.choice((0,1), size = (N, N))\n",
    "iter_ = 100 #number of iterations\n",
    "\n",
    "idxs = [np.random.choice(N, (K, 2)) for _ in range(N)] #Interactions\n",
    "gate_choice = np.random.choice(gates, (N, N)) # Choice gate for each node\n",
    "\n",
    "#choosing number of noisy points\n",
    "η = 0.3 #noise frac\n",
    "noised_points = int(η * (N**2))\n",
    "\n",
    "fig, ax1 = plt.subplots()\n",
    "img1 = ax1.imshow(W, cmap=\"gray\", vmin=0, vmax=1) \n",
    "ax1.set_title(f\"K = {K}; η = {η}\")\n",
    "ax1.axis(\"off\")\n",
    "\n",
    "def update(*args):\n",
    "    global W\n",
    "\n",
    "    #Adding noise\n",
    "    noise_idxs = np.random.choice(N, (noised_points, 2))\n",
    "    W[noise_idxs] = 1 - W[noise_idxs] # flip bits\n",
    "    \n",
    "    for i in range(N):\n",
    "        for j in range(N):        \n",
    "            inputs = np.array([W[row, col] for row, col in idxs[i]])  \n",
    "            W[i, j] = gate_choice[i, j](inputs)\n",
    "\n",
    "    img1.set_array(W) \n",
    "    return img1,\n",
    "\n",
    "\n",
    "    \n",
    "Writer = animation.writers[\"ffmpeg\"]\n",
    "writer = Writer(fps=10, metadata=dict(artist=\"Me\"), bitrate=1800)\n",
    "\n",
    "\n",
    "ani = animation.FuncAnimation(fig, update, frames=iter_, interval=100, blit=True)\n",
    "ani.save(\"RBN.mp4\", writer=writer)\n",
    "plt.show()"
   ]
  }
 ],
 "metadata": {
  "kernelspec": {
   "display_name": "Python 3 (ipykernel)",
   "language": "python",
   "name": "python3"
  },
  "language_info": {
   "codemirror_mode": {
    "name": "ipython",
    "version": 3
   },
   "file_extension": ".py",
   "mimetype": "text/x-python",
   "name": "python",
   "nbconvert_exporter": "python",
   "pygments_lexer": "ipython3",
   "version": "3.10.13"
  }
 },
 "nbformat": 4,
 "nbformat_minor": 5
}
