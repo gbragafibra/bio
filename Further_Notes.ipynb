{
 "cells": [
  {
   "cell_type": "markdown",
   "id": "4a958e02-cf2d-403d-8e81-f670767ca7b8",
   "metadata": {},
   "source": [
    "## On Process Philosophy in Biology\n",
    "### [Chapter 1 - (A Manifesto for a Processual Philosophy of Biology) by John Dupré and Daniel Nicholson](https://doi.org/10.1093/oso/9780198779636.003.0001)\n",
    "\n",
    "A good chunk of biology can be said to be developed under substance metaphysics rather than under process metaphysics. Although there are some exceptions with some attention being pulled to processual biology within the last century, and a bigger pull of attention happening more recently, substance metaphysics has been named king, where reality is seen as being composed by things rather than processes or events, if one takes the processual approach. Fundamentally, a merger of these two (if not actually of a bigger amount of approaches) is necessary to have a better understanding of the biological world.\n",
    "\n",
    "Biological systems can be taken as hierarchies of processes. There would not be a fundamental level of causation, for example refering to the relationships between cells, tissues, organism, social network, etc. There's both top-down and bottom-up causation, and we shouldn't prioritize any of these over others. Things, for example when refering to a specific cell of a certain type with certain characteristics, can be seen merely as conditional abstractions of the processes they \"compose\". Processes are the fundamental entity. There's no type of dualism (things/processes) to be discussed, given that things are derived from processes, and not the other way around (Atleast when refering to process metaphysics. One can take a multi-perspective approach, as mentioned before, and take the best out of substance and process metaphysics.).\n",
    "\n",
    "#### On some organicists' views (namely Paul Alfred Weiss')\n",
    "\n",
    "Given that life can be viewed as a dynamic process, an organism or a biological system shouldn't be decomposed into elementary <em>things</em> but rather in elementary <em>processes</em>. As such, a better understanding of a cell doesn't derive from a better understanding of its components inasmuch as a better understanding of how the relationships between these evolve over time (Although, as is evident, the quantification of some components is often useful as a proxy for the evolution of said relationships). "
   ]
  }
 ],
 "metadata": {
  "kernelspec": {
   "display_name": "Python 3 (ipykernel)",
   "language": "python",
   "name": "python3"
  },
  "language_info": {
   "codemirror_mode": {
    "name": "ipython",
    "version": 3
   },
   "file_extension": ".py",
   "mimetype": "text/x-python",
   "name": "python",
   "nbconvert_exporter": "python",
   "pygments_lexer": "ipython3",
   "version": "3.10.13"
  }
 },
 "nbformat": 4,
 "nbformat_minor": 5
}
