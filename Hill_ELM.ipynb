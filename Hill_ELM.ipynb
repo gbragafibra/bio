{
 "cells": [
  {
   "cell_type": "code",
   "execution_count": 1,
   "id": "30f04b58-4d05-40cd-8015-948a4bbf9c11",
   "metadata": {},
   "outputs": [],
   "source": [
    "import numpy as np\n",
    "import matplotlib.pyplot as plt\n",
    "from sklearn.datasets import load_breast_cancer\n",
    "data = load_breast_cancer()\n",
    "X = data.data\n",
    "y = data.target"
   ]
  },
  {
   "cell_type": "code",
   "execution_count": 2,
   "id": "35494514-ec37-4447-921e-374ff2026ce0",
   "metadata": {},
   "outputs": [],
   "source": [
    "def act_hill(X, K, n): #Hill activator func\n",
    "    return (X**n)/(K**n + X**n)\n",
    "\n",
    "def inib_hill(X, K, n): #Hill inhibitor func\n",
    "    return (K**n)/(K**n + X**n)"
   ]
  },
  {
   "cell_type": "code",
   "execution_count": 3,
   "id": "0d78fac6-d5b0-4f77-b353-e48f770b340e",
   "metadata": {},
   "outputs": [
    {
     "data": {
      "text/plain": [
       "0.5131810193321616"
      ]
     },
     "execution_count": 3,
     "metadata": {},
     "output_type": "execute_result"
    }
   ],
   "source": [
    "\"\"\"\n",
    "Example of procedure to select which act func\n",
    "to use, either act or inib Hill.\n",
    "Probably want to use Hebbian Learning\n",
    "or altogether just go with ELMs.\n",
    "Also, ϵ can stay random, but need\n",
    "a way to control the switch of ξ in each neuron.\n",
    "This as a first look. Can also let it stay random\n",
    "\"\"\"\n",
    "W = np.random.rand(X.shape[1], 1)\n",
    "ξ = np.random.choice([-1, 1], size = X.shape[0]).reshape(-1, 1)\n",
    "ϵ = np.random.rand(X.shape[0]).reshape(-1, 1)\n",
    "out_ = np.where(ξ == 1, act_hill(X@W, ϵ, 3), inib_hill(X@W, ϵ, 3))\n",
    "corr = np.sum(y.reshape(-1, 1) == np.where(out_ > 0.5, 1, 0))/X.shape[0]\n",
    "corr"
   ]
  },
  {
   "cell_type": "code",
   "execution_count": 6,
   "id": "88bfc0e7-1e85-463b-b488-1e57bc87f613",
   "metadata": {},
   "outputs": [],
   "source": [
    "def in_hidden(x, W): #compute input to hidden layer output\n",
    "    out_ = np.dot(x, W)\n",
    "    return out_\n",
    "\n",
    "def predict(x, W_hidden, W_out):\n",
    "    out_ = in_hidden(x, W_hidden)\n",
    "    y_ = np.dot(out_, W_out)\n",
    "    return y_"
   ]
  },
  {
   "cell_type": "code",
   "execution_count": 36,
   "id": "d93d13a2-59a0-4969-a6b9-4b7848b2be8a",
   "metadata": {},
   "outputs": [
    {
     "data": {
      "text/plain": [
       "<matplotlib.legend.Legend at 0x7f25b070b5b0>"
      ]
     },
     "execution_count": 36,
     "metadata": {},
     "output_type": "execute_result"
    },
    {
     "data": {
      "image/png": "[encoded data removed]",
      "text/plain": [
       "<Figure size 640x480 with 1 Axes>"
      ]
     },
     "metadata": {},
     "output_type": "display_data"
    }
   ],
   "source": [
    "train_size = 0.7\n",
    "in_dim = X.shape[1]\n",
    "train_accs = []\n",
    "test_accs = []\n",
    "x_range = np.arange(10, 200, 10)\n",
    "n = 3 #Hill coef\n",
    "\n",
    "\"\"\"\n",
    "This type of completely random approach seems bad.\n",
    "Performance ~-> rnd\n",
    "Need a way to select at each neuron for which\n",
    "act func to use.\n",
    "\"\"\"\n",
    "\n",
    "for hid_dim in x_range:\n",
    "    train_acc = []\n",
    "    test_acc = []\n",
    "    for _ in range(25): # num of sims\n",
    "        rnd_idx = np.random.permutation(X.shape[0])\n",
    "        train_idx = rnd_idx[:int(train_size * X.shape[0])]\n",
    "        test_idx = rnd_idx[int(train_size * X.shape[0]):]\n",
    "        X_train = X[train_idx]\n",
    "        y_train = y[train_idx]\n",
    "        X_test = X[test_idx]\n",
    "        y_test = y[test_idx]\n",
    "        W = np.random.rand(in_dim, hid_dim)\n",
    "        #ξ1 = np.random.choice([-1, 1], size = X_train.shape[0]).reshape(-1, 1)\n",
    "        \n",
    "        # Will have inib func on the outer neurons, and act func on the middle ones\n",
    "        ξ1 = -np.sign(np.abs(np.arange(X_train.shape[0]) - X_train.shape[0]/2) - X_train.shape[0]/4).reshape(-1, 1) #Positional encoding\n",
    "        ϵ1 = np.random.rand(X_train.shape[0]).reshape(-1, 1)\n",
    "        X_ = in_hidden(X_train, W)\n",
    "        X_ = np.where(ξ1 == 1, act_hill(X_, ϵ1, n), inib_hill(X_, ϵ1, n))\n",
    "        #Need pseudoinvert\n",
    "        β = np.dot(np.linalg.pinv(X_), y_train)\n",
    "        #ξ2 = np.random.choice([-1, 1], size = X_.shape[0]).reshape(-1, 1)\n",
    "        ξ2 = -np.sign(np.abs(np.arange(X_.shape[0]) - X_.shape[0]/2) - X_.shape[0]/4).reshape(-1, 1)\n",
    "        ϵ2 = np.random.rand(X_.shape[0]).reshape(-1, 1)\n",
    "        y_pred_train = predict(X_train, W, β).reshape(-1, 1)\n",
    "        y_pred_train = np.where(ξ2 == 1, act_hill(y_pred_train, ϵ2, n), inib_hill(y_pred_train, ϵ2, n))\n",
    "        y_train_cor = (np.sum(y_train.reshape(-1, 1) == np.where(y_pred_train > 0.5, 1, 0))/y_train.shape).item()\n",
    "        train_acc.append(y_train_cor)\n",
    "\n",
    "        #ξ_test = np.random.choice([-1, 1], size = X_test.shape[0]).reshape(-1, 1)\n",
    "        ξ_test = -np.sign(np.abs(np.arange(X_test.shape[0]) - X_test.shape[0]/2) - X_test.shape[0]/4).reshape(-1, 1)\n",
    "        ϵ_test = np.random.rand(X_test.shape[0]).reshape(-1, 1)\n",
    "        y_pred_test = predict(X_test, W, β).reshape(-1, 1)\n",
    "        y_pred_test = np.where(ξ_test == 1, act_hill(y_pred_test, ϵ_test, n), inib_hill(y_pred_test, ϵ_test, n))\n",
    "        y_test_cor = (np.sum(y_test.reshape(-1, 1) == np.where(y_pred_test > 0.5, 1, 0))/y_test.shape).item()\n",
    "        test_acc.append(y_test_cor)\n",
    "\n",
    "    train_accs.append((np.mean(train_acc), np.std(train_acc)))\n",
    "    test_accs.append((np.mean(test_acc), np.std(test_acc)))\n",
    "\n",
    "train_μ, train_σ = zip(*train_accs)\n",
    "test_μ, test_σ = zip(*test_accs)\n",
    "\n",
    "plt.errorbar(x_range, train_μ, yerr=train_σ, fmt=\".\", capsize=5, capthick=1, ecolor=\"r\", label=\"Train acc\")\n",
    "plt.errorbar(x_range, test_μ, yerr=test_σ, fmt=\".\", capsize=5, capthick=1, ecolor=\"k\", label=\"Test acc\")\n",
    "plt.xlabel(\"Hidden dim\")\n",
    "plt.ylabel(\"Accuracy\")\n",
    "plt.legend()"
   ]
  }
 ],
 "metadata": {
  "kernelspec": {
   "display_name": "Python 3 (ipykernel)",
   "language": "python",
   "name": "python3"
  },
  "language_info": {
   "codemirror_mode": {
    "name": "ipython",
    "version": 3
   },
   "file_extension": ".py",
   "mimetype": "text/x-python",
   "name": "python",
   "nbconvert_exporter": "python",
   "pygments_lexer": "ipython3",
   "version": "3.10.13"
  }
 },
 "nbformat": 4,
 "nbformat_minor": 5
}
