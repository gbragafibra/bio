{
 "cells": [
  {
   "cell_type": "code",
   "execution_count": 1,
   "id": "3c509a4b-46a6-4bc1-bba6-0b39a0446e71",
   "metadata": {},
   "outputs": [],
   "source": [
    "import numpy as np\n",
    "import matplotlib.pyplot as plt"
   ]
  },
  {
   "cell_type": "code",
   "execution_count": 2,
   "id": "c7b001ad-2d50-4d13-a568-e12e42f14bb9",
   "metadata": {},
   "outputs": [],
   "source": [
    "def MNIST_load():\n",
    "    from keras.datasets import mnist\n",
    "    (X, y), (_, _ )= mnist.load_data()\n",
    "    X = X.reshape(-1, 784)\n",
    "    X = (X > 128).astype(np.int32)\n",
    "    y = y.astype(np.int32)\n",
    "    return X, y\n",
    "\n",
    "def one_hot_encode(y):\n",
    "    num_classes = np.unique(y).shape[0]\n",
    "    y_one_hot = np.zeros((y.shape[0], num_classes), dtype=int)\n",
    "    y_one_hot[np.arange(y.shape[0]), y] = 1\n",
    "    return y_one_hot\n",
    "\n",
    "def train_test_split(X, y, split_ratio = 0.7):\n",
    "    N = X.shape[0]\n",
    "    rnd_idx = np.random.permutation(N)\n",
    "    train_idx = rnd_idx[:int(split_ratio * X.shape[0])]\n",
    "    test_idx = rnd_idx[int(split_ratio * X.shape[0]):]\n",
    "    X_train = X[train_idx]\n",
    "    y_train = y[train_idx]\n",
    "    X_test = X[test_idx]\n",
    "    y_test = y[test_idx]\n",
    "    return X_train, y_train, X_test, y_test"
   ]
  },
  {
   "cell_type": "code",
   "execution_count": 4,
   "id": "f4b3d625-566d-43bb-852d-b69701651128",
   "metadata": {},
   "outputs": [],
   "source": [
    "X, y = MNIST_load()\n",
    "X_train, y_train, X_test, y_test = train_test_split(X, y)\n",
    "y_train_one_hot = one_hot_encode(y_train)\n",
    "y_test_one_hot = one_hot_encode(y_test)"
   ]
  },
  {
   "cell_type": "code",
   "execution_count": 61,
   "id": "30409120-a1a5-4ba4-8c77-e0e867660e2a",
   "metadata": {},
   "outputs": [],
   "source": [
    "X_train_small = X_train[:500]\n",
    "y_train_small = y_train_one_hot[:500]\n",
    "X_test_small = X_test[:20]\n",
    "y_test_small = y_test[:20]"
   ]
  },
  {
   "cell_type": "code",
   "execution_count": 33,
   "id": "2fe66ed3-7503-42d2-93f7-160389270b08",
   "metadata": {},
   "outputs": [],
   "source": [
    "def AND(inputs):\n",
    "    return np.all(inputs == 1).astype(int)\n",
    "\n",
    "def OR(inputs):\n",
    "    return np.any(inputs == 1).astype(int)\n",
    "\n",
    "def XOR(inputs):\n",
    "    return (np.sum(inputs) % 2).astype(int)"
   ]
  },
  {
   "cell_type": "code",
   "execution_count": 48,
   "id": "d9481eca-f24d-482d-bfff-f3c9308c9e6d",
   "metadata": {},
   "outputs": [],
   "source": [
    "class autopoietic_ELM:\n",
    "    def __init__(self, X, y):\n",
    "        self.X = X\n",
    "        self.y = y\n",
    "    \n",
    "    def CA(self, X):\n",
    "        X_ = np.copy(X)\n",
    "        Nx, Ny = X.shape\n",
    "        gates = [AND, OR, XOR]\n",
    "        Φ = np.zeros((X.shape), dtype = int)\n",
    "        gate = np.random.choice(gates, (X.shape)) #local\n",
    "        ϵ = 2\n",
    "        radius = 2.5\n",
    "\n",
    "        for it in range(self.N_iter):\n",
    "            print(f\"Iteration {it + 1}/{self.N_iter}\")\n",
    "\n",
    "            x, y = np.indices(X.shape)\n",
    "            new_state = np.zeros(X.shape)\n",
    "\n",
    "            d_mask = np.sqrt((x - Nx//2)**2 + (y - Ny//2)**2) <= radius #distance mask \n",
    "\n",
    "            #state update\n",
    "            for i in range(Nx):\n",
    "                for j in range(Ny):\n",
    "                    mask = np.roll(np.roll(d_mask, i - Nx//2, axis = 0), j - Ny//2, axis = 1)\n",
    "                    new_state[i, j] = gate[i, j](X_[mask]) #local\n",
    "            sync = (new_state == X_)\n",
    "            Φ[sync] += 1 \n",
    "            Φ[~sync] = 0\n",
    "\n",
    "            mask_ensemble = (Φ == ε)\n",
    "            X_ = new_state\n",
    "\n",
    "            if np.any(mask_ensemble):\n",
    "                ensemble_idxs = np.argwhere(mask_ensemble)\n",
    "                for i, j in ensemble_idxs:\n",
    "                    X_[np.roll(np.roll(d_mask, i - Nx//2, axis = 0), j - Ny//2, axis = 1)] = X_[i, j]\n",
    "\n",
    "        return X_\n",
    "        \n",
    "    def train(self, N_iter):\n",
    "        self.N_iter = N_iter\n",
    "        X_ = self.CA(self.X)\n",
    "        self.β = np.dot(np.linalg.pinv(X_), self.y)\n",
    "            \n",
    "    def predict(self, X):\n",
    "        X_ = self.CA(X)\n",
    "        X_ = np.dot(X_, self.β)\n",
    "        pred = np.argmax(X_, axis = 1)\n",
    "        return pred\n",
    "        "
   ]
  },
  {
   "cell_type": "code",
   "execution_count": 62,
   "id": "fabda9e2-c3e0-41c9-ba29-bb318ac9adbf",
   "metadata": {},
   "outputs": [],
   "source": [
    "net = autopoietic_ELM(X_train_small, y_train_small)"
   ]
  },
  {
   "cell_type": "code",
   "execution_count": 63,
   "id": "11f4c414-1c50-4190-a77f-70df30d84327",
   "metadata": {},
   "outputs": [
    {
     "name": "stdout",
     "output_type": "stream",
     "text": [
      "Iteration 1/5\n",
      "Iteration 2/5\n",
      "Iteration 3/5\n",
      "Iteration 4/5\n",
      "Iteration 5/5\n"
     ]
    }
   ],
   "source": [
    "net.train(5)"
   ]
  },
  {
   "cell_type": "code",
   "execution_count": 64,
   "id": "5ed0dc9f-c5ae-458c-b475-accd02cc2377",
   "metadata": {},
   "outputs": [
    {
     "name": "stdout",
     "output_type": "stream",
     "text": [
      "Iteration 1/5\n",
      "Iteration 2/5\n",
      "Iteration 3/5\n",
      "Iteration 4/5\n",
      "Iteration 5/5\n"
     ]
    }
   ],
   "source": [
    "pred = net.predict(X_test_small)"
   ]
  },
  {
   "cell_type": "code",
   "execution_count": 65,
   "id": "2eadf06d-3422-4c7f-b7e3-26a5086b0411",
   "metadata": {},
   "outputs": [
    {
     "data": {
      "text/plain": [
       "array([False, False, False,  True, False, False, False, False, False,\n",
       "       False, False, False, False, False, False, False, False, False,\n",
       "       False, False])"
      ]
     },
     "execution_count": 65,
     "metadata": {},
     "output_type": "execute_result"
    }
   ],
   "source": [
    "pred == y_test_small"
   ]
  },
  {
   "cell_type": "markdown",
   "id": "8e65aed8-a255-4ad4-8c98-155d4a3cecb9",
   "metadata": {},
   "source": [
    "Too computationally expensive to run. The non-linear projection with the CA that is."
   ]
  }
 ],
 "metadata": {
  "kernelspec": {
   "display_name": "Python 3 (ipykernel)",
   "language": "python",
   "name": "python3"
  },
  "language_info": {
   "codemirror_mode": {
    "name": "ipython",
    "version": 3
   },
   "file_extension": ".py",
   "mimetype": "text/x-python",
   "name": "python",
   "nbconvert_exporter": "python",
   "pygments_lexer": "ipython3",
   "version": "3.10.13"
  }
 },
 "nbformat": 4,
 "nbformat_minor": 5
}
