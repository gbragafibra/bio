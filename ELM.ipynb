{
 "cells": [
  {
   "cell_type": "code",
   "execution_count": 1,
   "id": "0b39f9ec-ac45-42a8-a10d-2c3d1a635673",
   "metadata": {},
   "outputs": [],
   "source": [
    "# On Extreme Learning Machines (ELMs)\n",
    "import numpy as np\n",
    "import matplotlib.pyplot as plt\n",
    "from sklearn.datasets import load_breast_cancer"
   ]
  },
  {
   "cell_type": "code",
   "execution_count": 2,
   "id": "c279a3d6-0d76-41e6-a73a-3c0f58137893",
   "metadata": {},
   "outputs": [
    {
     "data": {
      "text/plain": [
       "(569, 30)"
      ]
     },
     "execution_count": 2,
     "metadata": {},
     "output_type": "execute_result"
    }
   ],
   "source": [
    "data = load_breast_cancer()\n",
    "X = data.data\n",
    "y = data.target\n",
    "X.shape #30 feat"
   ]
  },
  {
   "cell_type": "code",
   "execution_count": 3,
   "id": "1f2a97d3-3aed-4904-a259-d1f1637f8b32",
   "metadata": {},
   "outputs": [],
   "source": [
    "in_dim = X.shape[1]\n",
    "hid_dim = 50\n",
    "train_size = 0.7\n",
    "rnd_idx = np.random.permutation(X.shape[0])\n",
    "train_idx = rnd_idx[:int(train_size * X.shape[0])]\n",
    "test_idx = rnd_idx[int(train_size * X.shape[0]):]\n",
    "X_train = X[train_idx]\n",
    "y_train = y[train_idx]\n",
    "X_test = X[test_idx]\n",
    "y_test = y[test_idx]"
   ]
  },
  {
   "cell_type": "code",
   "execution_count": 4,
   "id": "374d3932-0af5-4860-8eec-787e90334ce8",
   "metadata": {},
   "outputs": [],
   "source": [
    "W = np.random.rand(in_dim, hid_dim)\n",
    "\n",
    "def σ(x):\n",
    "    return 1/(1 + np.exp(-x))\n",
    "\n",
    "def ReLU(x):\n",
    "    return np.maximum(0, x)\n",
    "\n",
    "def in_hidden(x, W): #compute input to hidden layer output\n",
    "    out_ = np.dot(x, W)\n",
    "    return ReLU(out_)"
   ]
  },
  {
   "cell_type": "markdown",
   "id": "97df775b-af95-4c66-b037-8de81da619f3",
   "metadata": {},
   "source": [
    "Regarding the least-square minimization of the weights on the output layer, we have the following solution:\n",
    "$$\n",
    "\\boldsymbol{\\hat\\beta} = (\\mathbf{X}^\\intercal \\mathbf{X})^{-1}\\mathbf{X}^\\intercal \\mathbf{y}\n",
    "$$"
   ]
  },
  {
   "cell_type": "code",
   "execution_count": 5,
   "id": "fbdf6114-15ff-426e-b754-3cdbf8e59f36",
   "metadata": {},
   "outputs": [],
   "source": [
    "X_ = in_hidden(X_train, W) \n",
    "#Need pseudoinvert\n",
    "β = np.dot(np.linalg.pinv(np.dot(X_.T, X_)), np.dot(X_.T, y_train))\n",
    "\n",
    "def predict(x, W_hidden, W_out):\n",
    "    out_ = in_hidden(x, W_hidden)\n",
    "    y_ = np.dot(out_, W_out)\n",
    "    return σ(y_)"
   ]
  },
  {
   "cell_type": "code",
   "execution_count": 6,
   "id": "70596a91-26e9-40db-aa9b-77654084c5b8",
   "metadata": {},
   "outputs": [
    {
     "name": "stdout",
     "output_type": "stream",
     "text": [
      "Train acc: 0.7487, Test acc: 0.7368\n"
     ]
    }
   ],
   "source": [
    "y_pred_train = predict(X_train, W, β)\n",
    "y_train_cor = (np.sum(y_train == np.where(y_pred_train > 0.5, 1, 0))/y_train.shape).item()\n",
    "\n",
    "y_pred_test = predict(X_test, W, β)\n",
    "y_test_cor = (np.sum(y_test == np.where(y_pred_test > 0.5, 1, 0))/y_test.shape).item()\n",
    "print(f\"Train acc: {y_train_cor:.4f}, Test acc: {y_test_cor:.4f}\")"
   ]
  },
  {
   "cell_type": "code",
   "execution_count": 23,
   "id": "3f6879df-3e6d-4ad4-9916-675f2cd492e0",
   "metadata": {},
   "outputs": [
    {
     "data": {
      "text/plain": [
       "<matplotlib.legend.Legend at 0x7f34a0e5d960>"
      ]
     },
     "execution_count": 23,
     "metadata": {},
     "output_type": "execute_result"
    },
    {
     "data": {
      "image/png": "[encoded data removed]",
      "text/plain": [
       "<Figure size 640x480 with 1 Axes>"
      ]
     },
     "metadata": {},
     "output_type": "display_data"
    }
   ],
   "source": [
    "train_accs = []\n",
    "test_accs = []\n",
    "x_range = np.arange(10, 200, 10)\n",
    "\n",
    "for hid_dim in x_range:\n",
    "    train_acc = []\n",
    "    test_acc = []\n",
    "    for _ in range(25): # num of sims\n",
    "        rnd_idx = np.random.permutation(X.shape[0])\n",
    "        train_idx = rnd_idx[:int(train_size * X.shape[0])]\n",
    "        test_idx = rnd_idx[int(train_size * X.shape[0]):]\n",
    "        X_train = X[train_idx]\n",
    "        y_train = y[train_idx]\n",
    "        X_test = X[test_idx]\n",
    "        y_test = y[test_idx]\n",
    "        W = np.random.rand(in_dim, hid_dim)\n",
    "        X_ = in_hidden(X_train, W) \n",
    "        #Need pseudoinvert\n",
    "        β = np.dot(np.linalg.pinv(np.dot(X_.T, X_)), np.dot(X_.T, y_train))\n",
    "        y_pred_train = predict(X_train, W, β)\n",
    "        y_train_cor = (np.sum(y_train == np.where(y_pred_train > 0.5, 1, 0))/y_train.shape).item()\n",
    "        train_acc.append(y_train_cor)\n",
    "        \n",
    "        y_pred_test = predict(X_test, W, β)\n",
    "        y_test_cor = (np.sum(y_test == np.where(y_pred_test > 0.5, 1, 0))/y_test.shape).item()\n",
    "        test_acc.append(y_test_cor)\n",
    "\n",
    "    train_accs.append((np.mean(train_acc), np.std(train_acc)))\n",
    "    test_accs.append((np.mean(test_acc), np.std(test_acc)))\n",
    "\n",
    "train_μ, train_σ = zip(*train_accs)\n",
    "test_μ, test_σ = zip(*test_accs)\n",
    "\n",
    "plt.errorbar(x_range, train_μ, yerr=train_σ, fmt=\".\", capsize=5, capthick=1, ecolor=\"r\", label=\"Train acc\")\n",
    "plt.errorbar(x_range, test_μ, yerr=test_σ, fmt=\".\", capsize=5, capthick=1, ecolor=\"k\", label=\"Test acc\")\n",
    "plt.xlabel(\"Hidden dim\")\n",
    "plt.ylabel(\"Accuracy\")\n",
    "plt.legend()"
   ]
  }
 ],
 "metadata": {
  "kernelspec": {
   "display_name": "Python 3 (ipykernel)",
   "language": "python",
   "name": "python3"
  },
  "language_info": {
   "codemirror_mode": {
    "name": "ipython",
    "version": 3
   },
   "file_extension": ".py",
   "mimetype": "text/x-python",
   "name": "python",
   "nbconvert_exporter": "python",
   "pygments_lexer": "ipython3",
   "version": "3.10.13"
  }
 },
 "nbformat": 4,
 "nbformat_minor": 5
}
